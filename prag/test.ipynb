{
 "cells": [
  {
   "cell_type": "code",
   "execution_count": null,
   "metadata": {},
   "outputs": [
    {
     "data": {
      "text/plain": [
       "2021政府工作报告\n",
       "\n",
       "\n",
       "各位代表：\n",
       "\n",
       "现在，我代表国务院，向大会报告政府工作，请予审议，并请全国政协委员提出意见。\n",
       "\n",
       "一、2020年工作回顾\n",
       "\n",
       "过去一年，在新中国历史上极不平凡。面对突如其来的新冠肺炎疫情、世界经济深度衰退\n"
      ]
     },
     "metadata": {},
     "output_type": "display_data"
    }
   ],
   "source": [
    "with open(\"prag/docs/raw_data/2021.txt\", \"r\") as f:\n",
    "    line = f.readline()\n",
    "    lines = f.read()\n",
    "\n",
    "print(line)\n",
    "print(lines[:100])\n"
   ]
  },
  {
   "cell_type": "code",
   "execution_count": null,
   "metadata": {},
   "outputs": [
    {
     "data": {
      "text/plain": [
       "123\n",
       "\n",
       "456\n",
       "\n",
       "789\n",
       "\n",
       "101112\n",
       "131415\n",
       "['123', '456', '789', '101112\\n131415']\n",
       "28\n"
      ]
     },
     "metadata": {},
     "output_type": "display_data"
    }
   ],
   "source": [
    "text = \"123\\n\\n456\\n\\n789\\n\\n101112\\n131415\"\n",
    "spliter = [\"\\n\\n\", \"1\"]\n",
    "print(text)\n",
    "print(text.split(spliter))\n",
    "print(len(text))"
   ]
  },
  {
   "cell_type": "code",
   "execution_count": null,
   "metadata": {},
   "outputs": [
    {
     "data": {
      "text/plain": [
       "2021.txt\n",
       "{'title': '2021', 'content': '2021 is a year'}\n",
       "2022.txt\n",
       "{'title': '2022', 'content': '2022 is a year'}\n"
      ]
     },
     "metadata": {},
     "output_type": "display_data"
    }
   ],
   "source": [
    "docs = {'2021.txt':{'title':'2021', 'content':'2021 is a year'}, '2022.txt':{'title':'2022', 'content':'2022 is a year'}}\n",
    "for fn, doc in docs.items():\n",
    "    print(fn)\n",
    "    print(doc)"
   ]
  },
  {
   "cell_type": "code",
   "execution_count": null,
   "metadata": {},
   "outputs": [],
   "source": []
  }
 ],
 "metadata": {
  "language_info": {
   "name": "python"
  }
 },
 "nbformat": 4,
 "nbformat_minor": 2
}
