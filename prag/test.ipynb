{
 "cells": [
  {
   "cell_type": "code",
   "execution_count": null,
   "metadata": {},
   "outputs": [
    {
     "data": {
      "text/plain": [
       "2021\n",
       "2022\n"
      ]
     },
     "metadata": {},
     "output_type": "display_data"
    }
   ],
   "source": [
    "docs = {'2021.txt':{'title':'2021', 'content':'2021 is a year'}, '2022.txt':{'title':'2022', 'content':'2022 is a year'}}\n",
    "for doc in docs.values():\n",
    "    print(doc['title'])"
   ]
  }
 ],
 "metadata": {
  "language_info": {
   "name": "python"
  }
 },
 "nbformat": 4,
 "nbformat_minor": 2
}
